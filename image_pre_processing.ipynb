{
 "cells": [
  {
   "cell_type": "code",
   "execution_count": 1,
   "metadata": {},
   "outputs": [
    {
     "name": "stdout",
     "output_type": "stream",
     "text": [
      "mkdir: cannot create directory ‘skin_lesion_types’: File exists\n"
     ]
    },
    {
     "data": {
      "text/plain": [
       "array(['benign_keratosis', 'melanocytic_nevi', 'dermatofibroma',\n",
       "       'melanoma', 'vascular_lesions', 'basal_cell_carcinoma',\n",
       "       'actinic_keratoses'], dtype=object)"
      ]
     },
     "execution_count": 1,
     "metadata": {},
     "output_type": "execute_result"
    }
   ],
   "source": [
    "# %matplotlib inline\n",
    "# import matplotlib.pyplot as plt\n",
    "import numpy as np\n",
    "import pandas as pd\n",
    "import os\n",
    "from glob import glob\n",
    "import seaborn as sns\n",
    "from PIL import Image\n",
    "\n",
    "\n",
    "\n",
    "image_dir = \"/home/sajedhamdan/Desktop/skin_cancer/images\"\n",
    "df = pd.read_csv('HAM10000_metadata')\n",
    "df.head()\n",
    "\n",
    "\n",
    "image_id_path = {os.path.splitext(os.path.basename(x))[0]: x\n",
    "                     for x in glob(os.path.join(image_dir, '*', '*.jpg'))}\n",
    "\n",
    "lesion_types = {\n",
    "    'nv': 'melanocytic_nevi',\n",
    "    'mel': 'melanoma',\n",
    "    'bkl': 'benign_keratosis',\n",
    "    'bcc': 'basal_cell_carcinoma',\n",
    "    'akiec': 'actinic_keratoses',\n",
    "    'vasc': 'vascular_lesions',\n",
    "    'df': 'dermatofibroma'\n",
    "}\n",
    "\n",
    "# 0 for Benign, 1 for Malignant\n",
    "lesion_is_dangerous = {\n",
    "    'nv': 0,\n",
    "    'mel': 1, \n",
    "    'bkl': 0, \n",
    "    'bcc': 1, \n",
    "    'akiec': 1,\n",
    "    'vasc': 0,\n",
    "    'df': 0\n",
    "}\n",
    "\n",
    "\n",
    "# setting up data frame, by mapping image and its metadata\n",
    "df[\"path\"] = df[\"image_id\"].map(image_id_path.get) # map image_id to the path of that image\n",
    "df[\"cell_type\"] = df[\"dx\"].map(lesion_types.get) # map dx to type of lesion\n",
    "df[\"Malignant\"] = df[\"dx\"].map(lesion_is_dangerous.get)\n",
    "df[\"cell_type_idx\"] = pd.Categorical(df[\"cell_type\"]).codes # give each cell type a category id\n",
    "\n",
    "\n",
    "\n",
    "from skimage.io import imread\n",
    "df[\"image\"] = df[\"path\"].map(imread) # read the image to array values\n",
    "df.iloc[0][\"image\"] # here is a sample\n",
    "# let's see what is the shape of each value in the image column\n",
    "df[\"image\"].map(lambda x: x.shape).value_counts() \n",
    "\n",
    "\n",
    "\n",
    "\n",
    "# setting dataframe to store mean value of Red, Blue and Green for each picture\n",
    "# this is the main change implemented, rather than reading images through subdirectories(folders)\n",
    "image_rgb_df = df.apply(lambda x: pd.Series({'{}_mean'.format(k): v for k, v \n",
    "                                                 in zip([\"Red\", \"Blue\", \"Green\"], \n",
    "                                                        np.mean(x[\"image\"], (0, 1)))}), 1)\n",
    "\n",
    "\n",
    "gray_scale_color_vector = image_rgb_df.apply(lambda x: np.mean(x), 1) # take the mean value across columns of image_rgb_df\n",
    "for c_col in image_rgb_df.columns:\n",
    "    image_rgb_df[c_col] = image_rgb_df[c_col]/gray_scale_color_vector \n",
    "image_rgb_df[\"Gray_mean\"] = gray_scale_color_vector\n",
    "image_rgb_df.sample(3)\n",
    "\n",
    "for c_col in image_rgb_df.columns:\n",
    "    df[c_col] = image_rgb_df[c_col].values\n",
    "\n",
    "\n",
    "\n",
    "reshaped_images = df[\"path\"].map(lambda x: np.asarray(Image.open(x).resize((64,64), resample=Image.LANCZOS).\\\n",
    "                                                          convert(\"RGB\")).ravel())\n",
    "output_vector = np.stack(reshaped_images, 0)\n",
    "output_df = pd.DataFrame(output_vector)\n",
    "output_df[\"label\"] = df[\"cell_type_idx\"]\n",
    "\n",
    "out_path = \"hmnist_64_64_RBG.csv\"\n",
    "output_df.to_csv(out_path, index=False)\n",
    "\n",
    "\n",
    "\n",
    "original_image = Image.open(df[\"path\"][0])\n",
    "original_image.size\n",
    "!mkdir skin_lesion_types\n",
    "df[\"cell_type\"].unique()"
   ]
  },
  {
   "cell_type": "code",
   "execution_count": 2,
   "metadata": {},
   "outputs": [
    {
     "data": {
      "text/plain": [
       "'/home/sajedhamdan/Desktop/skin_cancer/images/HAM10000_images_part_1/ISIC_0027419.jpg'"
      ]
     },
     "execution_count": 2,
     "metadata": {},
     "output_type": "execute_result"
    }
   ],
   "source": [
    "df[\"path\"][0]"
   ]
  },
  {
   "cell_type": "code",
   "execution_count": 3,
   "metadata": {},
   "outputs": [],
   "source": [
    "# for index in df.index.values.tolist():\n",
    "#     path = df.iloc[index][\"path\"]\n",
    "#     cell_type_idx = df.iloc[index][\"cell_type\"]\n",
    "#     original_image_id = df.iloc[index][\"image_id\"]\n",
    "#     newpath = f\"/home/sajedhamdan/Desktop/skin_cancer/skin_lesion_types/{cell_type_idx}/{original_image_id}.jpg\"\n",
    "#     original_image = Image.open(path)\n",
    "#     original_image = original_image.resize((299, 299), resample=Image.LANCZOS)\n",
    "#     original_image.save(newpath)\n",
    "\n",
    "\n",
    "\n",
    "# previous code gave me an issue on the dir, resolved by creating new dir at first \n",
    "for index in df.index.values.tolist():\n",
    "    path = df.iloc[index][\"path\"]\n",
    "    cell_type_idx = df.iloc[index][\"cell_type\"]\n",
    "    original_image_id = df.iloc[index][\"image_id\"]\n",
    "    \n",
    "    # Define the new path where the image will be saved\n",
    "    newpath = f\"/home/sajedhamdan/Desktop/skin_cancer/skin_lesion_types/{cell_type_idx}/{original_image_id}.jpg\"\n",
    "    \n",
    "    # Ensure the directory exists\n",
    "    directory = os.path.dirname(newpath)  # Extract the directory path\n",
    "    os.makedirs(directory, exist_ok=True)  # Create the directory if it doesn't exist\n",
    "\n",
    "    # Open, resize, and save the image\n",
    "    original_image = Image.open(path)\n",
    "    original_image = original_image.resize((299, 299), resample=Image.LANCZOS)\n",
    "    original_image.save(newpath)\n",
    "\n",
    "\n",
    "\n",
    "\n",
    "reshaped_images = df[\"path\"].map(lambda x: np.asarray(Image.open(x).resize((256,192), resample=Image.LANCZOS).\\\n",
    "                                                          convert(\"RGB\")))\n",
    "                                                    \n"
   ]
  },
  {
   "cell_type": "code",
   "execution_count": 4,
   "metadata": {},
   "outputs": [],
   "source": [
    "# output_vector = np.stack(reshaped_images, 0)\n",
    "# output_vector.shape\n",
    "# output_vector = output_vector.astype(\"float32\")\n",
    "# output_vector /= 255\n",
    "\n",
    "\n",
    "# labels = df[\"cell_type_idx\"].values\n",
    "\n",
    "# from sklearn.model_selection import train_test_split\n",
    "\n",
    "\n",
    "\n",
    "\n",
    "# X_train_orig, X_test, y_train_orig, y_test = train_test_split(output_vector, labels, test_size=0.1,random_state=0)\n",
    "# # np.save(\"256_192_test.npy\", X_test)\n",
    "# np.save(\"images_test_256x192.npy\", X_test)\n",
    "# np.save(\"test_labels.npy\", y_test)\n",
    "\n",
    "\n",
    "\n",
    "# X_train, X_val, y_train, y_val = train_test_split(X_train_orig, y_train_orig, test_size=0.1, random_state=1)\n",
    "# # np.save(\"256_192_val.npy\", X_val)\n",
    "# np.save(\"images_val_256x192.npy\", X_val)\n",
    "# np.save(\"val_labels.npy\", y_val)\n",
    "\n",
    "\n",
    "# # np.save(\"256_192_train.npy\", X_train)\n",
    "# np.save(\"images_train_256x192.npy\", X_train)\n",
    "# np.save(\"train_labels.npy\", y_train)\n",
    "\n",
    "\n",
    "\n",
    "\n"
   ]
  },
  {
   "cell_type": "code",
   "execution_count": 6,
   "metadata": {},
   "outputs": [
    {
     "name": "stdout",
     "output_type": "stream",
     "text": [
      "Normalizing and writing 10015 images to memmap file...\n"
     ]
    },
    {
     "name": "stderr",
     "output_type": "stream",
     "text": [
      "  0%|          | 0/10015 [00:00<?, ?it/s]"
     ]
    },
    {
     "name": "stderr",
     "output_type": "stream",
     "text": [
      "100%|██████████| 10015/10015 [01:02<00:00, 159.11it/s]\n"
     ]
    },
    {
     "ename": "",
     "evalue": "",
     "output_type": "error",
     "traceback": [
      "\u001b[1;31mThe Kernel crashed while executing code in the current cell or a previous cell. \n",
      "\u001b[1;31mPlease review the code in the cell(s) to identify a possible cause of the failure. \n",
      "\u001b[1;31mClick <a href='https://aka.ms/vscodeJupyterKernelCrash'>here</a> for more info. \n",
      "\u001b[1;31mView Jupyter <a href='command:jupyter.viewOutput'>log</a> for further details."
     ]
    }
   ],
   "source": [
    "import numpy as np\n",
    "from sklearn.model_selection import train_test_split\n",
    "from tqdm import tqdm\n",
    "\n",
    "# Assume reshaped_images is a list of np arrays with equal shape\n",
    "num_images = len(reshaped_images)\n",
    "image_shape = reshaped_images[0].shape  # e.g., (256, 192, 3)\n",
    "\n",
    "# Prepare disk-backed array to avoid memory overload\n",
    "output_vector = np.memmap(\"images_memmap.dat\", dtype='float32', mode='w+', shape=(num_images, *image_shape))\n",
    "\n",
    "print(f\"Normalizing and writing {num_images} images to memmap file...\")\n",
    "for i, img in enumerate(tqdm(reshaped_images)):\n",
    "    output_vector[i] = img.astype('float32') / 255.0\n",
    "\n",
    "# Flush changes to disk\n",
    "output_vector.flush()\n",
    "\n",
    "# Get labels\n",
    "labels = df[\"cell_type_idx\"].values\n",
    "\n",
    "# First split: Train/Test\n",
    "X_train_orig_idx, X_test_idx, y_train_orig, y_test = train_test_split(\n",
    "    np.arange(num_images), labels, test_size=0.1, random_state=0\n",
    ")\n",
    "\n",
    "# Save Test set\n",
    "np.save(\"images_test_256x192.npy\", output_vector[X_test_idx])\n",
    "np.save(\"test_labels.npy\", y_test)\n",
    "\n",
    "# Second split: Train/Val from Train_Orig\n",
    "X_train_idx, X_val_idx, y_train, y_val = train_test_split(\n",
    "    X_train_orig_idx, y_train_orig, test_size=0.1, random_state=1\n",
    ")\n",
    "\n",
    "# Save Val and Train sets\n",
    "np.save(\"images_val_256x192.npy\", output_vector[X_val_idx])\n",
    "np.save(\"val_labels.npy\", y_val)\n",
    "\n",
    "np.save(\"images_train_256x192.npy\", output_vector[X_train_idx])\n",
    "np.save(\"train_labels.npy\", y_train)\n"
   ]
  }
 ],
 "metadata": {
  "kernelspec": {
   "display_name": "usr",
   "language": "python",
   "name": "python3"
  },
  "language_info": {
   "codemirror_mode": {
    "name": "ipython",
    "version": 3
   },
   "file_extension": ".py",
   "mimetype": "text/x-python",
   "name": "python",
   "nbconvert_exporter": "python",
   "pygments_lexer": "ipython3",
   "version": "3.10.16"
  }
 },
 "nbformat": 4,
 "nbformat_minor": 2
}
